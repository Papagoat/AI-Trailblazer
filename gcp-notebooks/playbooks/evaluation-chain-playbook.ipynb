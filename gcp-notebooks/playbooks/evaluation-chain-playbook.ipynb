{
 "cells": [
  {
   "cell_type": "markdown",
   "id": "f4565bd3-9a7d-4217-b6ce-1cc07be31f19",
   "metadata": {},
   "source": [
    "# Evaluation Chain\n",
    "\n",
    "This chain classifies user's input as a critiera type defined in `CriteriaEnum`. \n",
    "\n",
    "Based on the classified type, the chain will evaluate whether this input has met the criteria description.\n",
    "\n",
    "Note: This might be swapped out with a rule based approach."
   ]
  },
  {
   "cell_type": "code",
   "execution_count": 1,
   "id": "a5e62142-b5ab-42c7-b699-8cfe72d1ded2",
   "metadata": {
    "tags": []
   },
   "outputs": [
    {
     "name": "stdout",
     "output_type": "stream",
     "text": [
      "Requirement already satisfied: langchain-community in /opt/conda/envs/python3-11-6/lib/python3.11/site-packages (0.0.25)\n",
      "Requirement already satisfied: langchain in /opt/conda/envs/python3-11-6/lib/python3.11/site-packages (0.1.10)\n",
      "Requirement already satisfied: langchain-core in /opt/conda/envs/python3-11-6/lib/python3.11/site-packages (0.1.28)\n",
      "Requirement already satisfied: google-cloud-aiplatform in /opt/conda/envs/python3-11-6/lib/python3.11/site-packages (1.43.0)\n",
      "Requirement already satisfied: google-cloud-discoveryengine in /opt/conda/envs/python3-11-6/lib/python3.11/site-packages (0.11.7)\n",
      "Requirement already satisfied: PyYAML>=5.3 in /opt/conda/envs/python3-11-6/lib/python3.11/site-packages (from langchain-community) (6.0.1)\n",
      "Requirement already satisfied: SQLAlchemy<3,>=1.4 in /opt/conda/envs/python3-11-6/lib/python3.11/site-packages (from langchain-community) (2.0.23)\n",
      "Requirement already satisfied: aiohttp<4.0.0,>=3.8.3 in /opt/conda/envs/python3-11-6/lib/python3.11/site-packages (from langchain-community) (3.9.1)\n",
      "Requirement already satisfied: dataclasses-json<0.7,>=0.5.7 in /opt/conda/envs/python3-11-6/lib/python3.11/site-packages (from langchain-community) (0.6.3)\n",
      "Requirement already satisfied: langsmith<0.2.0,>=0.1.0 in /opt/conda/envs/python3-11-6/lib/python3.11/site-packages (from langchain-community) (0.1.10)\n",
      "Requirement already satisfied: numpy<2,>=1 in /opt/conda/envs/python3-11-6/lib/python3.11/site-packages (from langchain-community) (1.26.2)\n",
      "Requirement already satisfied: requests<3,>=2 in /opt/conda/envs/python3-11-6/lib/python3.11/site-packages (from langchain-community) (2.31.0)\n",
      "Requirement already satisfied: tenacity<9.0.0,>=8.1.0 in /opt/conda/envs/python3-11-6/lib/python3.11/site-packages (from langchain-community) (8.2.3)\n",
      "Requirement already satisfied: jsonpatch<2.0,>=1.33 in /opt/conda/envs/python3-11-6/lib/python3.11/site-packages (from langchain) (1.33)\n",
      "Requirement already satisfied: langchain-text-splitters<0.1,>=0.0.1 in /opt/conda/envs/python3-11-6/lib/python3.11/site-packages (from langchain) (0.0.1)\n",
      "Requirement already satisfied: pydantic<3,>=1 in /opt/conda/envs/python3-11-6/lib/python3.11/site-packages (from langchain) (2.5.3)\n",
      "Requirement already satisfied: anyio<5,>=3 in /opt/conda/envs/python3-11-6/lib/python3.11/site-packages (from langchain-core) (3.7.1)\n",
      "Requirement already satisfied: packaging<24.0,>=23.2 in /opt/conda/envs/python3-11-6/lib/python3.11/site-packages (from langchain-core) (23.2)\n",
      "Requirement already satisfied: google-api-core!=2.0.*,!=2.1.*,!=2.2.*,!=2.3.*,!=2.4.*,!=2.5.*,!=2.6.*,!=2.7.*,<3.0.0dev,>=1.34.1 in /opt/conda/envs/python3-11-6/lib/python3.11/site-packages (from google-api-core[grpc]!=2.0.*,!=2.1.*,!=2.2.*,!=2.3.*,!=2.4.*,!=2.5.*,!=2.6.*,!=2.7.*,<3.0.0dev,>=1.34.1->google-cloud-aiplatform) (2.15.0)\n",
      "Requirement already satisfied: google-auth<3.0.0dev,>=2.14.1 in /opt/conda/envs/python3-11-6/lib/python3.11/site-packages (from google-cloud-aiplatform) (2.25.2)\n",
      "Requirement already satisfied: proto-plus<2.0.0dev,>=1.22.0 in /opt/conda/envs/python3-11-6/lib/python3.11/site-packages (from google-cloud-aiplatform) (1.23.0)\n",
      "Requirement already satisfied: protobuf!=3.20.0,!=3.20.1,!=4.21.0,!=4.21.1,!=4.21.2,!=4.21.3,!=4.21.4,!=4.21.5,<5.0.0dev,>=3.19.5 in /opt/conda/envs/python3-11-6/lib/python3.11/site-packages (from google-cloud-aiplatform) (4.25.1)\n",
      "Requirement already satisfied: google-cloud-storage<3.0.0dev,>=1.32.0 in /opt/conda/envs/python3-11-6/lib/python3.11/site-packages (from google-cloud-aiplatform) (2.14.0)\n",
      "Requirement already satisfied: google-cloud-bigquery<4.0.0dev,>=1.15.0 in /opt/conda/envs/python3-11-6/lib/python3.11/site-packages (from google-cloud-aiplatform) (3.14.1)\n",
      "Requirement already satisfied: google-cloud-resource-manager<3.0.0dev,>=1.3.3 in /opt/conda/envs/python3-11-6/lib/python3.11/site-packages (from google-cloud-aiplatform) (1.11.0)\n",
      "Requirement already satisfied: shapely<3.0.0dev in /opt/conda/envs/python3-11-6/lib/python3.11/site-packages (from google-cloud-aiplatform) (2.0.2)\n",
      "Requirement already satisfied: attrs>=17.3.0 in /opt/conda/envs/python3-11-6/lib/python3.11/site-packages (from aiohttp<4.0.0,>=3.8.3->langchain-community) (23.1.0)\n",
      "Requirement already satisfied: multidict<7.0,>=4.5 in /opt/conda/envs/python3-11-6/lib/python3.11/site-packages (from aiohttp<4.0.0,>=3.8.3->langchain-community) (6.0.4)\n",
      "Requirement already satisfied: yarl<2.0,>=1.0 in /opt/conda/envs/python3-11-6/lib/python3.11/site-packages (from aiohttp<4.0.0,>=3.8.3->langchain-community) (1.9.4)\n",
      "Requirement already satisfied: frozenlist>=1.1.1 in /opt/conda/envs/python3-11-6/lib/python3.11/site-packages (from aiohttp<4.0.0,>=3.8.3->langchain-community) (1.4.1)\n",
      "Requirement already satisfied: aiosignal>=1.1.2 in /opt/conda/envs/python3-11-6/lib/python3.11/site-packages (from aiohttp<4.0.0,>=3.8.3->langchain-community) (1.3.1)\n",
      "Requirement already satisfied: idna>=2.8 in /opt/conda/envs/python3-11-6/lib/python3.11/site-packages (from anyio<5,>=3->langchain-core) (3.6)\n",
      "Requirement already satisfied: sniffio>=1.1 in /opt/conda/envs/python3-11-6/lib/python3.11/site-packages (from anyio<5,>=3->langchain-core) (1.3.0)\n",
      "Requirement already satisfied: marshmallow<4.0.0,>=3.18.0 in /opt/conda/envs/python3-11-6/lib/python3.11/site-packages (from dataclasses-json<0.7,>=0.5.7->langchain-community) (3.20.1)\n",
      "Requirement already satisfied: typing-inspect<1,>=0.4.0 in /opt/conda/envs/python3-11-6/lib/python3.11/site-packages (from dataclasses-json<0.7,>=0.5.7->langchain-community) (0.9.0)\n",
      "Requirement already satisfied: googleapis-common-protos<2.0.dev0,>=1.56.2 in /opt/conda/envs/python3-11-6/lib/python3.11/site-packages (from google-api-core!=2.0.*,!=2.1.*,!=2.2.*,!=2.3.*,!=2.4.*,!=2.5.*,!=2.6.*,!=2.7.*,<3.0.0dev,>=1.34.1->google-api-core[grpc]!=2.0.*,!=2.1.*,!=2.2.*,!=2.3.*,!=2.4.*,!=2.5.*,!=2.6.*,!=2.7.*,<3.0.0dev,>=1.34.1->google-cloud-aiplatform) (1.62.0)\n",
      "Requirement already satisfied: grpcio<2.0dev,>=1.33.2 in /opt/conda/envs/python3-11-6/lib/python3.11/site-packages (from google-api-core[grpc]!=2.0.*,!=2.1.*,!=2.2.*,!=2.3.*,!=2.4.*,!=2.5.*,!=2.6.*,!=2.7.*,<3.0.0dev,>=1.34.1->google-cloud-aiplatform) (1.60.0)\n",
      "Requirement already satisfied: grpcio-status<2.0.dev0,>=1.33.2 in /opt/conda/envs/python3-11-6/lib/python3.11/site-packages (from google-api-core[grpc]!=2.0.*,!=2.1.*,!=2.2.*,!=2.3.*,!=2.4.*,!=2.5.*,!=2.6.*,!=2.7.*,<3.0.0dev,>=1.34.1->google-cloud-aiplatform) (1.60.0)\n",
      "Requirement already satisfied: cachetools<6.0,>=2.0.0 in /opt/conda/envs/python3-11-6/lib/python3.11/site-packages (from google-auth<3.0.0dev,>=2.14.1->google-cloud-aiplatform) (5.3.2)\n",
      "Requirement already satisfied: pyasn1-modules>=0.2.1 in /opt/conda/envs/python3-11-6/lib/python3.11/site-packages (from google-auth<3.0.0dev,>=2.14.1->google-cloud-aiplatform) (0.3.0)\n",
      "Requirement already satisfied: rsa<5,>=3.1.4 in /opt/conda/envs/python3-11-6/lib/python3.11/site-packages (from google-auth<3.0.0dev,>=2.14.1->google-cloud-aiplatform) (4.9)\n",
      "Requirement already satisfied: google-cloud-core<3.0.0dev,>=1.6.0 in /opt/conda/envs/python3-11-6/lib/python3.11/site-packages (from google-cloud-bigquery<4.0.0dev,>=1.15.0->google-cloud-aiplatform) (2.4.1)\n",
      "Requirement already satisfied: google-resumable-media<3.0dev,>=0.6.0 in /opt/conda/envs/python3-11-6/lib/python3.11/site-packages (from google-cloud-bigquery<4.0.0dev,>=1.15.0->google-cloud-aiplatform) (2.7.0)\n",
      "Requirement already satisfied: python-dateutil<3.0dev,>=2.7.2 in /opt/conda/envs/python3-11-6/lib/python3.11/site-packages (from google-cloud-bigquery<4.0.0dev,>=1.15.0->google-cloud-aiplatform) (2.8.2)\n",
      "Requirement already satisfied: grpc-google-iam-v1<1.0.0dev,>=0.12.4 in /opt/conda/envs/python3-11-6/lib/python3.11/site-packages (from google-cloud-resource-manager<3.0.0dev,>=1.3.3->google-cloud-aiplatform) (0.13.0)\n",
      "Requirement already satisfied: google-crc32c<2.0dev,>=1.0 in /opt/conda/envs/python3-11-6/lib/python3.11/site-packages (from google-cloud-storage<3.0.0dev,>=1.32.0->google-cloud-aiplatform) (1.5.0)\n",
      "Requirement already satisfied: jsonpointer>=1.9 in /opt/conda/envs/python3-11-6/lib/python3.11/site-packages (from jsonpatch<2.0,>=1.33->langchain) (2.4)\n",
      "Requirement already satisfied: orjson<4.0.0,>=3.9.14 in /opt/conda/envs/python3-11-6/lib/python3.11/site-packages (from langsmith<0.2.0,>=0.1.0->langchain-community) (3.9.15)\n",
      "Requirement already satisfied: annotated-types>=0.4.0 in /opt/conda/envs/python3-11-6/lib/python3.11/site-packages (from pydantic<3,>=1->langchain) (0.6.0)\n",
      "Requirement already satisfied: pydantic-core==2.14.6 in /opt/conda/envs/python3-11-6/lib/python3.11/site-packages (from pydantic<3,>=1->langchain) (2.14.6)\n",
      "Requirement already satisfied: typing-extensions>=4.6.1 in /opt/conda/envs/python3-11-6/lib/python3.11/site-packages (from pydantic<3,>=1->langchain) (4.9.0)\n",
      "Requirement already satisfied: charset-normalizer<4,>=2 in /opt/conda/envs/python3-11-6/lib/python3.11/site-packages (from requests<3,>=2->langchain-community) (3.3.2)\n",
      "Requirement already satisfied: urllib3<3,>=1.21.1 in /opt/conda/envs/python3-11-6/lib/python3.11/site-packages (from requests<3,>=2->langchain-community) (2.1.0)\n",
      "Requirement already satisfied: certifi>=2017.4.17 in /opt/conda/envs/python3-11-6/lib/python3.11/site-packages (from requests<3,>=2->langchain-community) (2023.11.17)\n",
      "Requirement already satisfied: greenlet!=0.4.17 in /opt/conda/envs/python3-11-6/lib/python3.11/site-packages (from SQLAlchemy<3,>=1.4->langchain-community) (3.0.3)\n",
      "Requirement already satisfied: pyasn1<0.6.0,>=0.4.6 in /opt/conda/envs/python3-11-6/lib/python3.11/site-packages (from pyasn1-modules>=0.2.1->google-auth<3.0.0dev,>=2.14.1->google-cloud-aiplatform) (0.5.1)\n",
      "Requirement already satisfied: six>=1.5 in /opt/conda/envs/python3-11-6/lib/python3.11/site-packages (from python-dateutil<3.0dev,>=2.7.2->google-cloud-bigquery<4.0.0dev,>=1.15.0->google-cloud-aiplatform) (1.16.0)\n",
      "Requirement already satisfied: mypy-extensions>=0.3.0 in /opt/conda/envs/python3-11-6/lib/python3.11/site-packages (from typing-inspect<1,>=0.4.0->dataclasses-json<0.7,>=0.5.7->langchain-community) (1.0.0)\n"
     ]
    }
   ],
   "source": [
    "import sys\n",
    "!{sys.executable} -m pip install langchain-community langchain langchain-core google-cloud-aiplatform google-cloud-discoveryengine"
   ]
  },
  {
   "cell_type": "code",
   "execution_count": 2,
   "id": "12c90d25-f705-4d9a-b67e-e48294b1602d",
   "metadata": {
    "tags": []
   },
   "outputs": [],
   "source": [
    "# # Automatically restart kernel after installs so that your environment can access the new packages\n",
    "# import IPython\n",
    "\n",
    "# app = IPython.Application.instance()\n",
    "# app.kernel.do_shutdown(True)"
   ]
  },
  {
   "cell_type": "code",
   "execution_count": 3,
   "id": "b16a77c8-7a89-4c3c-8c87-dc603f656cd6",
   "metadata": {
    "tags": []
   },
   "outputs": [],
   "source": [
    "import sys\n",
    "\n",
    "if \"google.colab\" in sys.modules:\n",
    "    from google.colab import auth as google_auth\n",
    "\n",
    "    google_auth.authenticate_user()"
   ]
  },
  {
   "cell_type": "code",
   "execution_count": 4,
   "id": "e91a5e18-afb1-4e33-8c3c-4b6156772944",
   "metadata": {
    "tags": []
   },
   "outputs": [],
   "source": [
    "CRITERIA_TEMPLATE = \"\"\"\n",
    "Respond Y or N based on how well the following response follows the specified rubric. Grade only based on the rubric and expected response:\n",
    "\n",
    "Grading Rubric: {criteria}\n",
    "\n",
    "DATA:\n",
    "---------\n",
    "Question: {question}\n",
    "---------\n",
    "{format_instructions}\n",
    "\"\"\"\n",
    "\n",
    "CLASSIFIER_TEMPLATE = \"\"\"\n",
    "Given the user question below, classify it as either being about one of the criteria's in this list\n",
    "{criteria_names}\n",
    "\n",
    "Do not respond with more than one word. \n",
    "\n",
    "<question>\n",
    "{question}\n",
    "</question>\n",
    "\n",
    "Classification:\n",
    "\"\"\"\n"
   ]
  },
  {
   "cell_type": "code",
   "execution_count": 5,
   "id": "42b61e7f-1290-462d-987c-aa26235ce551",
   "metadata": {
    "tags": []
   },
   "outputs": [
    {
     "name": "stdout",
     "output_type": "stream",
     "text": [
      "drwxr-xr-x  33 jupyter jupyter      4096 Feb 28 13:31 langchain\n",
      "drwxr-xr-x   2 jupyter jupyter      4096 Feb 28 13:31 langchain-0.1.0.dist-info\n",
      "drwxr-xr-x  22 jupyter jupyter      4096 Feb 28 13:31 langchain_community\n",
      "drwxr-xr-x   2 jupyter jupyter      4096 Feb 28 13:31 langchain_community-0.0.9.dist-info\n",
      "drwxr-xr-x  19 jupyter jupyter      4096 Feb 28 13:31 langchain_core\n",
      "drwxr-xr-x   2 jupyter jupyter      4096 Feb 28 13:31 langchain_core-0.1.7.dist-info\n"
     ]
    }
   ],
   "source": [
    "# ! ls -la /opt/conda/lib/python3.10/site-packages/langchain_core/output_parsers/__init__.py\n",
    "# ! cat /opt/conda/lib/python3.10/site-packages/langchain_core/output_parsers/__init__.py\n",
    "\n",
    "! ls -la /opt/conda/lib/python3.10/site-packages/ | grep langchain\n",
    "\n",
    "from langchain_community.llms import VertexAI\n"
   ]
  },
  {
   "cell_type": "code",
   "execution_count": 6,
   "id": "987f13bd-463e-4fd1-85a8-325bc3cbc648",
   "metadata": {
    "tags": []
   },
   "outputs": [],
   "source": [
    "from enum import Enum\n",
    "\n",
    "\n",
    "class CriteriaEnum(str, Enum):\n",
    "    \"\"\"The types of the Criteria.\"\"\"\n",
    "    LOW_INCOME = \"Is the user or the person in question considered low income?\"\n",
    "    LOW_FINANCIAL_AND_OR_LEGAL_LITERACY = \"Does the person in question demonstrate a limited understanding of fundamental financial and/or legal concepts?\"\n",
    "    FAMILY_OF_PWD = \"Is the person in question a family of a person with disability?\"\n",
    "    ACCIDENT = \"Was the user or person in question recently in an accident?\"\n"
   ]
  },
  {
   "cell_type": "code",
   "execution_count": 7,
   "id": "a4ef2468-bbe7-477b-80e2-ad6e528eaade",
   "metadata": {
    "tags": []
   },
   "outputs": [],
   "source": [
    "from operator import itemgetter\n",
    "from typing import Dict\n",
    "\n",
    "from langchain_community.llms import VertexAI\n",
    "from langchain_core.output_parsers import StrOutputParser, JsonOutputParser\n",
    "from langchain_core.runnables import RunnablePassthrough, RunnableBranch, RunnableSequence, RunnableParallel\n",
    "from langchain_core.pydantic_v1 import BaseModel, Field\n",
    "from langchain.prompts import PromptTemplate\n",
    "\n",
    "\n",
    "class Answer(BaseModel):\n",
    "    \"\"\"\n",
    "    Typings for Evaluator output\n",
    "    \"\"\"\n",
    "    criteria: str = Field(description=\"criteria\")\n",
    "    reasoning: str = Field(description=\"detailed explanation\")\n",
    "    value: str = Field(description=\"Y/N\")\n",
    "\n",
    "\n",
    "class EvaluationChain():\n",
    "    \"\"\"This class evaluates the user's input\"\"\"\n",
    "\n",
    "    def __init__(self, eligibility_dict: Dict[str, bool]) -> None:\n",
    "        \"\"\"This method instantiates an instance of EvaluationChain\"\"\"\n",
    "        # pylint: disable-next=not-callable\n",
    "        self.model = VertexAI(\n",
    "            model=\"chat-bison-32k\", temperature=0, verbose=True, max_tokens=32768)\n",
    "        self.eligibility_dict = eligibility_dict\n",
    "        self.chain = self.get_chain()\n",
    "\n",
    "    def get_chain(self) -> RunnableSequence:\n",
    "        \"\"\"\n",
    "        This method returns the evaluation chain.\n",
    "\n",
    "        ..evaluation_chain\n",
    "        classifier_chain | RunnableBranch\n",
    "\n",
    "        The classifier_chain classifies the input as one of the types in CriteriaEnum\n",
    "        and passes it to RunnableBranch. The matched runnable is then invoked based\n",
    "        on the value from the classifier_chain.\n",
    "\n",
    "        ..RunnableBranch consists of\n",
    "            1. Default Runnable that returns None if no branches are matched\n",
    "            2. Custom runnables loaded with each criteria in CriteriaEnum\n",
    "        \"\"\"\n",
    "        evaluators = self.get_evaluators()\n",
    "        classifier_chain = self.get_classifier_chain()\n",
    "\n",
    "        def update_and_invoke(evaluator: RunnableSequence, question: str, criteria: str) -> Dict[str, str]:\n",
    "            \"\"\"\n",
    "            This helper function does:\n",
    "            1. Invokes evaluation chain\n",
    "            2. Updates eligibility criteria dictionary based on the outcome in 1\n",
    "            \"\"\"\n",
    "            res = evaluator.invoke(question)\n",
    "\n",
    "            if res[\"value\"] == \"Y\" and self.eligibility_dict[criteria] in [False, None]:\n",
    "                self.eligibility_dict[criteria] = True\n",
    "            return res\n",
    "\n",
    "        branch = RunnableBranch(\n",
    "            *[\n",
    "                (\n",
    "                    lambda x, k=k: k in x[\"criteria\"].strip() and self.eligibility_dict[k] in [\n",
    "                        False, None],\n",
    "                    lambda x, k=k, v=v: update_and_invoke(v, x[\"question\"], k)\n",
    "                ) for k, v in evaluators.items()\n",
    "            ],\n",
    "            lambda x: None\n",
    "        )\n",
    "        eval_chain = (\n",
    "            RunnableParallel({\n",
    "                \"criteria\": classifier_chain,\n",
    "                \"question\": lambda x: x[\"question\"]\n",
    "            })\n",
    "            | branch\n",
    "        )\n",
    "\n",
    "        return eval_chain\n",
    "\n",
    "    def get_classifier_chain(self) -> RunnableSequence:\n",
    "        \"\"\"\n",
    "        This method returns a classifier chain that classifies the question as one\n",
    "        of the criteria defined in CriteriaEnum.\n",
    "\n",
    "        If no criteria is matched, None is returned.\n",
    "        \"\"\"\n",
    "        criteria_names = [criteria.name for criteria in CriteriaEnum]\n",
    "        CLASSIFIER_PROMPT = PromptTemplate.from_template(CLASSIFIER_TEMPLATE)\n",
    "        classifier_chain = (\n",
    "            {\n",
    "                \"question\": RunnablePassthrough() | itemgetter(\"question\"),\n",
    "                \"criteria_names\": lambda x: criteria_names\n",
    "            }\n",
    "            | CLASSIFIER_PROMPT\n",
    "            # pylint: disable-next=not-callable\n",
    "            | VertexAI(verbose=True)\n",
    "            | StrOutputParser()\n",
    "        )\n",
    "        return classifier_chain\n",
    "\n",
    "    def get_evaluators(self) -> Dict[str, RunnableSequence]:\n",
    "        \"\"\"\n",
    "        This method returns a dictionary of CRITERIA_NAME : CRITERIA_CHAIN\n",
    "        \"\"\"\n",
    "        parser = JsonOutputParser(pydantic_object=Answer)\n",
    "        CRITERIA_PROMPT = PromptTemplate.from_template(\n",
    "            CRITERIA_TEMPLATE, partial_variables={\"format_instructions\": parser.get_format_instructions()}\n",
    "        )\n",
    "        return {\n",
    "            criteria.name: (\n",
    "                {\n",
    "                    \"question\": RunnablePassthrough(),\n",
    "                    \"criteria\": lambda x, c=criteria: {c.name: c.value}\n",
    "                }\n",
    "                | CRITERIA_PROMPT\n",
    "                # pylint: disable-next=not-callable\n",
    "                | VertexAI(verbose=True)\n",
    "                | parser\n",
    "            ) for criteria in CriteriaEnum\n",
    "        }\n"
   ]
  },
  {
   "cell_type": "code",
   "execution_count": 8,
   "id": "0c731f08-32ad-41a5-9ff9-4160545dd859",
   "metadata": {
    "tags": []
   },
   "outputs": [
    {
     "name": "stderr",
     "output_type": "stream",
     "text": [
      "/opt/conda/envs/python3-11-6/lib/python3.11/site-packages/langchain_core/_api/deprecation.py:117: LangChainDeprecationWarning: The class `langchain_community.llms.vertexai.VertexAI` was deprecated in langchain-community 0.0.12 and will be removed in 0.2.0. An updated version of the class exists in the langchain-google-vertexai package and should be used instead. To use it run `pip install -U langchain-google-vertexai` and import as `from langchain_google_vertexai import VertexAI`.\n",
      "  warn_deprecated(\n"
     ]
    }
   ],
   "source": [
    "eligibility_dict = {\n",
    "            criteria.name: None\n",
    "            for criteria in CriteriaEnum\n",
    "        }\n",
    "\n",
    "eval_chain = EvaluationChain(eligibility_dict).chain"
   ]
  },
  {
   "cell_type": "code",
   "execution_count": 9,
   "id": "52dcc037-0a27-4d69-bd8f-e16f408a8845",
   "metadata": {
    "tags": []
   },
   "outputs": [
    {
     "name": "stdout",
     "output_type": "stream",
     "text": [
      "{'criteria': 'ACCIDENT', 'reasoning': 'The user mentioned that their grandma just had an accident.', 'value': 'Y'}\n",
      "{'LOW_INCOME': None, 'LOW_FINANCIAL_AND_OR_LEGAL_LITERACY': None, 'FAMILY_OF_PWD': None, 'ACCIDENT': True}\n"
     ]
    }
   ],
   "source": [
    "query = \"My grandma just had an accident. I don't know what to do.\"\n",
    "\n",
    "res = eval_chain.invoke({ \"question\": query })\n",
    "\n",
    "print(res)\n",
    "print(eligibility_dict)"
   ]
  },
  {
   "cell_type": "code",
   "execution_count": 10,
   "id": "9a021978-2fc1-4fb6-bfb9-149ee7675e40",
   "metadata": {
    "tags": []
   },
   "outputs": [
    {
     "name": "stdout",
     "output_type": "stream",
     "text": [
      "{'criteria': 'LOW_FINANCIAL_AND_OR_LEGAL_LITERACY', 'reasoning': 'The person in question acknowledges their lack of knowledge about financial matters, specifically regarding insurance coverage for medical bills.', 'value': 'Y'}\n",
      "{'LOW_INCOME': None, 'LOW_FINANCIAL_AND_OR_LEGAL_LITERACY': True, 'FAMILY_OF_PWD': None, 'ACCIDENT': True}\n"
     ]
    }
   ],
   "source": [
    "query = \"My grandma is in the hospital but I don't know enough about financial stuff to know if insurance can cover her bills.\"\n",
    "\n",
    "res = eval_chain.invoke({ \"question\": query })\n",
    "\n",
    "print(res)\n",
    "print(eligibility_dict)"
   ]
  }
 ],
 "metadata": {
  "environment": {
   "kernel": "python3-11-6",
   "name": ".m114",
   "type": "gcloud",
   "uri": "gcr.io/deeplearning-platform-release/:m114"
  },
  "kernelspec": {
   "display_name": "python3-11-6 (Local)",
   "language": "python",
   "name": "python3-11-6"
  },
  "language_info": {
   "codemirror_mode": {
    "name": "ipython",
    "version": 3
   },
   "file_extension": ".py",
   "mimetype": "text/x-python",
   "name": "python",
   "nbconvert_exporter": "python",
   "pygments_lexer": "ipython3",
   "version": "3.11.6"
  }
 },
 "nbformat": 4,
 "nbformat_minor": 5
}
