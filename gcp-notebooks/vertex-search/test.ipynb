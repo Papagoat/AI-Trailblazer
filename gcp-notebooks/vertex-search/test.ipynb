{
 "cells": [
  {
   "cell_type": "code",
   "execution_count": 1,
   "id": "091f6a16-63fd-4350-9b3d-97bad6feddad",
   "metadata": {
    "tags": []
   },
   "outputs": [
    {
     "name": "stdout",
     "output_type": "stream",
     "text": [
      "\u001b[31mERROR: pip's dependency resolver does not currently take into account all the packages that are installed. This behaviour is the source of the following dependency conflicts.\n",
      "tensorflow 2.12.1 requires protobuf!=4.21.0,!=4.21.1,!=4.21.2,!=4.21.3,!=4.21.4,!=4.21.5,<5.0.0dev,>=3.20.3, but you have protobuf 3.19.6 which is incompatible.\n",
      "tensorflow 2.12.1 requires typing-extensions<4.6.0,>=3.6.6, but you have typing-extensions 4.9.0 which is incompatible.\n",
      "google-cloud-pubsublite 1.8.3 requires overrides<7.0.0,>=6.0.1, but you have overrides 7.7.0 which is incompatible.\n",
      "kfp 2.4.0 requires kubernetes<27,>=8.0.0, but you have kubernetes 29.0.0 which is incompatible.\u001b[0m\u001b[31m\n",
      "\u001b[0m"
     ]
    }
   ],
   "source": [
    "! pip install -q google-cloud-discoveryengine\n",
    "! pip install -q -U google-cloud-aiplatform\n",
    "! pip install -q langchain-core\n",
    "! pip install -q langchain\n",
    "! pip install -q tiktoken\n",
    "! pip install -q faiss-cpu\n",
    "!pip install -q ragxplorer"
   ]
  },
  {
   "cell_type": "code",
   "execution_count": 2,
   "id": "67693c0c-cd8c-4e68-9421-f7b12e40f944",
   "metadata": {
    "tags": []
   },
   "outputs": [
    {
     "data": {
      "text/plain": [
       "{'status': 'ok', 'restart': True}"
      ]
     },
     "execution_count": 2,
     "metadata": {},
     "output_type": "execute_result"
    }
   ],
   "source": [
    "# Automatically restart kernel after installs so that your environment can access the new packages\n",
    "import IPython\n",
    "\n",
    "app = IPython.Application.instance()\n",
    "app.kernel.do_shutdown(True)"
   ]
  },
  {
   "cell_type": "code",
   "execution_count": 1,
   "id": "d3a33c23-1b9d-4f87-bdff-fda83211cc42",
   "metadata": {
    "tags": []
   },
   "outputs": [],
   "source": [
    "import sys\n",
    "\n",
    "if \"google.colab\" in sys.modules:\n",
    "    from google.colab import auth as google_auth\n",
    "\n",
    "    google_auth.authenticate_user()"
   ]
  },
  {
   "cell_type": "code",
   "execution_count": 2,
   "id": "64467e0f-8d91-48d8-ab3b-d95b087d332d",
   "metadata": {
    "tags": []
   },
   "outputs": [],
   "source": [
    "from langchain.chat_models.vertexai import ChatVertexAI\n",
    "from langchain.vectorstores import MatchingEngine\n",
    "from langchain.embeddings import VertexAIEmbeddings\n",
    "from langchain.memory import ConversationBufferMemory\n",
    "from langchain.prompts import ChatPromptTemplate, PromptTemplate, FewShotChatMessagePromptTemplate, ChatMessagePromptTemplate\n",
    "from langchain.llms import VertexAI\n",
    "from langchain.chains import ConversationalRetrievalChain, RetrievalQA\n",
    "from langchain.schema import format_document\n",
    "from langchain.text_splitter import CharacterTextSplitter\n",
    "\n",
    "\n",
    "import torch\n",
    "from tqdm import tqdm\n",
    "import pandas as pd\n",
    "import numpy as np\n",
    "import re\n",
    "from typing import List\n",
    "from pydantic import BaseModel\n",
    "import matplotlib.pyplot as plt\n",
    "import time\n",
    "\n",
    "\n",
    "PROJECT_ID=\"engaged-domain-403109\"\n",
    "REGION=\"asia-southeast1\"\n",
    "GCS_BUCKET=\"engaged-domain-403109-me-bucket\"\n",
    "ME_INDEX_ID=\"projects/510519063638/locations/asia-southeast1/indexes/4693366538231611392\"\n",
    "ME_ENDPOINT_ID=\"projects/510519063638/locations/asia-southeast1/indexEndpoints/3617586769429528576\"\n",
    "\n",
    "QUERY_EXAMPLES_FILENAME = 'data/embedding_adaptor_training/query_examples.csv'"
   ]
  },
  {
   "cell_type": "code",
   "execution_count": 3,
   "id": "4f663c54-b6cb-4822-bbc7-fe807755a925",
   "metadata": {
    "tags": []
   },
   "outputs": [],
   "source": [
    "# Utility functions for Embeddings API with rate limiting\n",
    "def rate_limit(max_per_minute):\n",
    "    period = 60 / max_per_minute\n",
    "    print(\"Waiting\")\n",
    "    while True:\n",
    "        before = time.time()\n",
    "        yield\n",
    "        after = time.time()\n",
    "        elapsed = after - before\n",
    "        sleep_time = max(0, period - elapsed)\n",
    "        if sleep_time > 0:\n",
    "            print(\".\", end=\"\")\n",
    "            time.sleep(sleep_time)\n",
    "\n",
    "class CustomVertexAIEmbeddings(VertexAIEmbeddings, BaseModel):\n",
    "    requests_per_minute: int\n",
    "    num_instances_per_batch: int\n",
    "\n",
    "    # Overriding embed_documents method\n",
    "    def embed_documents(self, texts: List[str]):\n",
    "        limiter = rate_limit(self.requests_per_minute)\n",
    "        results = []\n",
    "        docs = list(texts)\n",
    "\n",
    "        while docs:\n",
    "            # Working in batches because the API accepts maximum 5\n",
    "            # documents per request to get embeddings\n",
    "            head, docs = (\n",
    "                docs[: self.num_instances_per_batch],\n",
    "                docs[self.num_instances_per_batch :],\n",
    "            )\n",
    "            chunk = self.client.get_embeddings(head)\n",
    "            results.extend(chunk)\n",
    "            next(limiter)\n",
    "\n",
    "        return [r.values for r in results]"
   ]
  },
  {
   "cell_type": "code",
   "execution_count": 4,
   "id": "df88b3f7-3553-4765-8f32-0b1480e6e592",
   "metadata": {
    "tags": []
   },
   "outputs": [
    {
     "name": "stderr",
     "output_type": "stream",
     "text": [
      "2024-02-05 02:53:09.742731: I tensorflow/core/platform/cpu_feature_guard.cc:182] This TensorFlow binary is optimized to use available CPU instructions in performance-critical operations.\n",
      "To enable the following instructions: AVX2 FMA, in other operations, rebuild TensorFlow with the appropriate compiler flags.\n",
      "/opt/conda/lib/python3.10/site-packages/tensorflow_io/python/ops/__init__.py:98: UserWarning: unable to load libtensorflow_io_plugins.so: unable to open file: libtensorflow_io_plugins.so, from paths: ['/opt/conda/lib/python3.10/site-packages/tensorflow_io/python/ops/libtensorflow_io_plugins.so']\n",
      "caused by: ['/opt/conda/lib/python3.10/site-packages/tensorflow_io/python/ops/libtensorflow_io_plugins.so: undefined symbol: _ZN3tsl6StatusC1EN10tensorflow5error4CodeESt17basic_string_viewIcSt11char_traitsIcEENS_14SourceLocationE']\n",
      "  warnings.warn(f\"unable to load libtensorflow_io_plugins.so: {e}\")\n",
      "/opt/conda/lib/python3.10/site-packages/tensorflow_io/python/ops/__init__.py:104: UserWarning: file system plugins are not loaded: unable to open file: libtensorflow_io.so, from paths: ['/opt/conda/lib/python3.10/site-packages/tensorflow_io/python/ops/libtensorflow_io.so']\n",
      "caused by: ['/opt/conda/lib/python3.10/site-packages/tensorflow_io/python/ops/libtensorflow_io.so: undefined symbol: _ZTVN10tensorflow13GcsFileSystemE']\n",
      "  warnings.warn(f\"file system plugins are not loaded: {e}\")\n"
     ]
    },
    {
     "data": {
      "text/plain": [
       "CustomVertexAIEmbeddings_v2(project=None, location='asia-southeast1', request_parallelism=5, max_retries=6, stop=None, model_name='textembedding-gecko', client=<vertexai.preview.language_models._PreviewTextEmbeddingModel object at 0x7fce5fa56c20>, temperature=0.0, max_output_tokens=128, top_p=0.95, top_k=40, credentials=None, n=1, streaming=False)"
      ]
     },
     "execution_count": 4,
     "metadata": {},
     "output_type": "execute_result"
    }
   ],
   "source": [
    "class CustomVertexAIEmbeddings_v2(VertexAIEmbeddings, BaseModel):\n",
    "\n",
    "    # Overriding embed_query method\n",
    "    def embed_query(self, text: str):\n",
    "        embeddings = self.client.get_embeddings([text])[0].values\n",
    "        adapted_query_embeddings = np.matmul(best_matrix, np.array(embeddings).T).tolist()\n",
    "        \n",
    "        return adapted_query_embeddings\n",
    "\n",
    "# Embeddings API integrated with langChain\n",
    "embeddings_v2 = CustomVertexAIEmbeddings_v2()\n",
    "embeddings_v2.location = REGION\n",
    "\n",
    "# Show embeddings_v2 config\n",
    "embeddings_v2"
   ]
  },
  {
   "cell_type": "code",
   "execution_count": 5,
   "id": "093c7f5c-b8bb-4d0d-b757-04ddf6f54071",
   "metadata": {
    "tags": []
   },
   "outputs": [
    {
     "data": {
      "text/plain": [
       "CustomVertexAIEmbeddings(project=None, location='us-central1', request_parallelism=5, max_retries=6, stop=None, model_name='textembedding-gecko', client=<vertexai.preview.language_models._PreviewTextEmbeddingModel object at 0x7fce6167f3d0>, temperature=0.0, max_output_tokens=128, top_p=0.95, top_k=40, credentials=None, n=1, streaming=False, requests_per_minute=100, num_instances_per_batch=5)"
      ]
     },
     "execution_count": 5,
     "metadata": {},
     "output_type": "execute_result"
    }
   ],
   "source": [
    "EMBEDDING_QPM = 100\n",
    "EMBEDDING_NUM_BATCH = 5\n",
    "embeddings = CustomVertexAIEmbeddings(\n",
    "    requests_per_minute=EMBEDDING_QPM,\n",
    "    num_instances_per_batch=EMBEDDING_NUM_BATCH,\n",
    ")\n",
    "\n",
    "embeddings"
   ]
  },
  {
   "cell_type": "code",
   "execution_count": 7,
   "id": "2622bbd9-a7cc-413b-ad60-2ae8de20ce10",
   "metadata": {
    "tags": []
   },
   "outputs": [],
   "source": [
    "# Load matching engine\n",
    "me_v2 = MatchingEngine.from_components(\n",
    "    project_id=PROJECT_ID,\n",
    "    region=REGION,\n",
    "    gcs_bucket_name=GCS_BUCKET,\n",
    "    embedding=embeddings_v2,\n",
    "    index_id=ME_INDEX_ID,\n",
    "    endpoint_id=ME_ENDPOINT_ID,\n",
    ")\n",
    "\n",
    "# Get retriever from matching engine\n",
    "NUMBER_OF_RESULTS = 4\n",
    "retriever_v2 = me_v2.as_retriever(\n",
    "        search_type=\"similarity\",\n",
    "        search_kwargs={\n",
    "            \"k\": NUMBER_OF_RESULTS,\n",
    "        },\n",
    "    )"
   ]
  },
  {
   "cell_type": "code",
   "execution_count": 8,
   "id": "70d7f046-07d9-4b6c-9a72-5ffd298ca586",
   "metadata": {
    "tags": []
   },
   "outputs": [
    {
     "data": {
      "text/plain": [
       "[Document(page_content='For parents whose child’s doctor has initiated a referral for enrolment in EIPIC, this EIPIC information pack contains some useful materials on early intervention and EIPIC, to guide you through the initial phase of your child’s enrolment.\\n\\nAs a new caregiver, you may have many questions on early intervention. To help address some of these questions, a Step One programme for new caregivers is also available. For more information and to sign up, click here.\\n\\nAs EIPIC is not a kindergarten or child care, caregivers may also want to consider pre-school or childcare arrangements. More information can be found on our Education page.\\n\\nList of EIPIC centres\\n\\nParent’s Guide: Introduction to Early Intervention\\n\\nParent’s Guide: Navigating EIPIC Application and Community Resources\\n\\nInclusive Support Programme (InSP) Pilot'),\n",
       " Document(page_content=\"Inclusive Support Programme (InSP) Pilot\\n\\nIn 2021, ECDA introduced a pilot programme in 7 selected childcare centres to o\\x00er the Inclusive Support Programme (InSP) to children aged 3 to 6 years who require medium levels of EI support. The InSP additionally provides intervention and therapy services within the preschool. These services could be integrated with early childhood education.\\n\\nMore information on InSP on referral process, fees, and list of centres can be found here.\\n\\nPlaces in the InSP are limited. Alternatives for caregivers include other pre-schools that admit children who require EI support, can be found in the link below. Parents are advised to approach their child's pre-school directly for more information.\\n\\nPre-schools that can admit children who require EI support\\n\\nBefore and after school care\"),\n",
       " Document(page_content='List of centres in the EIPIC-P scheme Special Needs Schools in Singapore: Preschools, Early\\n\\nIntervention Programmes, Therapy Centres and International Schools: Article\\n\\nEarly intervention preschools in Singapore for children with extra needs, learning challenges and autism:\\n\\nArticle EIPIC Fees Matrix - For Singaporean Citizens\\n\\nEIPIC Fees Matrix - For Permanent Residents (PR)\\n\\nEIPIC-P Fees Matrix - For Singaporean Citizens EIPIC-P Fees Matrix - For Permanent Residents (PR)\\n\\nSite Map\\n\\nTerms Of Use\\n\\nPrivacy Policy\\n\\neAdmin Singpass Login (for Individual users)\\n\\neAdmin Singpass Login (for Business users)\\n\\nSSNet – Enabling Services (for Business users)\\n\\nRate Our Website\\n\\n© 2023 Enabling Guide. All Rights Reserved.\\n\\nPowered by'),\n",
       " Document(page_content='Residential care\\n\\nIn some instances, caregivers may be unable to care for their children with disabilities and require short-term or long-term residential care for them. Child Disability Homes (CDHs) o\\x00er such care to persons with disabilities aged below 18, but admission into these homes should be considered as a last resort and only when it is in the child’s best interest. To enrol a child with disabilities into a CDH, please approach a social worker from a hospital or a SSA.\\n\\nFor details on centre locations, their contact numbers and operating hours, click on this list of SSAs that run child disability homes. For details on the number of vacancies in the centre, fees and speci\\x00cs of their programmes, contact the service provider directly.\\n\\nFor adults (aged 18 and above)\\n\\nActions To Take\\n\\nConsider employment as a means of \\x00nancial security and participation in society.')]"
      ]
     },
     "execution_count": 8,
     "metadata": {},
     "output_type": "execute_result"
    }
   ],
   "source": [
    "retriever_v2.get_relevant_documents('what is sped')"
   ]
  },
  {
   "cell_type": "code",
   "execution_count": 9,
   "id": "f7ac5f0a-a7a7-46e6-8dc4-d277b90f386c",
   "metadata": {
    "tags": []
   },
   "outputs": [
    {
     "data": {
      "text/plain": [
       "[Document(page_content='\\uf0da Special Education Needs (SEN) Fund\\n\\n\\uf0da Enhancement for Active Seniors (EASE)\\n\\nFinancial Planning and Others\\n\\n\\uf0da Trusts\\n\\n\\uf0da Insurance\\n\\n\\uf0da Others\\n\\nSite Map\\n\\nTerms Of Use\\n\\nPrivacy Policy\\n\\neAdmin Singpass Login (for Individual users)\\n\\neAdmin Singpass Login (for Business users)\\n\\nSSNet – Enabling Services (for Business users)\\n\\nRate Our Website\\n\\n© 2023 Enabling Guide. All Rights Reserved.\\n\\nPowered by'),\n",
       " Document(page_content='3\\n\\nhttps://www.enablingguide.sg/docs/default-source/publications/education-pathways-for-children-with-sen-entering-sped-schools.pdf?sfvrsn=ea3b2a7e_4\\n\\n4\\n\\nhttps://www.moe.gov.sg/news/parliamentary-replies/20190211-allied-educators\\n\\n5\\n\\nhttps://www.moe.gov.sg/-/media/\\x00les/special-education/parents-guide-children-special-educational-needs.ashx\\n\\n6\\n\\nhttps://www.moe.gov.sg/-/media/\\x00les/special-education/parents-guide-children-special-educational-needs.ashx\\n\\n7\\n\\nhttps://www.moe.gov.sg/special-educational-needs/curriculum and https://www.moe.gov.sg/-/media/\\x00les/special-education/parents-guide-children-special-\\n\\neducational-needs.ashx\\n\\nSite Map\\n\\nTerms Of Use\\n\\nPrivacy Policy\\n\\neAdmin Singpass Login (for Individual users)\\n\\neAdmin Singpass Login (for Business users)\\n\\nSSNet – Enabling Services (for Business users)\\n\\nRate Our Website\\n\\n© 2023 Enabling Guide. All Rights Reserved.\\n\\nPowered by'),\n",
       " Document(page_content='The Enabling Transport Subsidy supports eligible Singapore Citizens and Permanent Residents with disabilities who need to use dedicated transport provided by the Social Service Agencies (SSAs) to access the Early Intervention Programme for Infants and Children (EIPIC), Special Education (SPED) schools, Day Activity Centres (DACs), Sheltered Workshops (SWs) and Special Student Care Centres (SSCCs).\\n\\nThe subsidy scheme is means-tested – to be eligible, the monthly per capita household income should be $2,800 or less for Singapore citizens and $2,000 or less for Permanent Residents. People on this scheme cannot concurrently be recipients of TSS (above). Interested applicants should apply for the Enabling Transport Subsidy through their SPED school or Social Service Agencies.\\n\\nPrivate personal cars\\n\\nActions to take\\n\\nParticipate in the Driving Assessment and Rehabilitation Programme after obtaining a referral from your doctor.'),\n",
       " Document(page_content='the care recipient.\\n\\n\\uf067\\n\\nWhy do I need the NRIC issue date? How do I \\x00nd the NRIC issue date?\\n\\n\\uf067\\n\\nHow do I change my IDAPE payment account?\\n\\n\\uf067\\n\\nHow do I know whether I am severely disabled?\\n\\n\\uf067\\n\\nCan I see my own doctor or therapist to be assessed for IDAPE eligibility?\\n\\nDo I need to pay for a severe disability assessment? How much are the assessment fees?\\n\\n\\uf067\\n\\nWould someone with dementia or other cognitive impairments automatically qualify for IDAPE?\\n\\n\\uf067\\n\\n\\uf067\\n\\nIs there a periodic re-assessment? How often would it be? Can this be waived?\\n\\nIf my IDAPE payout had ceased due to recovery, can I subsequently reapply if I become severely disabled again?\\n\\n\\uf067\\n\\n\\uf067\\n\\nWill Singapore Permanent Residents (PRs) be eligible for IDAPE?\\n\\n\\uf067\\n\\nDo Singaporeans residing overseas qualify for IDAPE payouts?\\n\\nI am a bene\\x00ciary of moderate disability assistance schemes such as the Pioneer Generation Disability Assistance Scheme (PioneerDAS) or Home Caregiving Grant (HCG), will I automatically qualify for IDAPE?\\n\\n\\uf067')]"
      ]
     },
     "execution_count": 9,
     "metadata": {},
     "output_type": "execute_result"
    }
   ],
   "source": [
    "# Initialise embedding object\n",
    "embeddings = VertexAIEmbeddings(location=REGION, model_name=\"textembedding-gecko@001\")\n",
    "\n",
    "# Load matching engine\n",
    "me = MatchingEngine.from_components(\n",
    "    project_id=PROJECT_ID,\n",
    "    region=REGION,\n",
    "    gcs_bucket_name=GCS_BUCKET,\n",
    "    embedding=embeddings,\n",
    "    index_id=ME_INDEX_ID,\n",
    "    endpoint_id=ME_ENDPOINT_ID,\n",
    ")\n",
    "\n",
    "# Get retriever from matching engine\n",
    "NUMBER_OF_RESULTS = 4\n",
    "retriever = me.as_retriever(\n",
    "        search_type=\"similarity\",\n",
    "        search_kwargs={\n",
    "            \"k\": NUMBER_OF_RESULTS,\n",
    "        },\n",
    "    )\n",
    "\n",
    "retriever.get_relevant_documents('what is sped')"
   ]
  }
 ],
 "metadata": {
  "environment": {
   "kernel": "python3",
   "name": "tf2-cpu.2-11.m114",
   "type": "gcloud",
   "uri": "gcr.io/deeplearning-platform-release/tf2-cpu.2-11:m114"
  },
  "kernelspec": {
   "display_name": "Python 3 (Local)",
   "language": "python",
   "name": "python3"
  },
  "language_info": {
   "codemirror_mode": {
    "name": "ipython",
    "version": 3
   },
   "file_extension": ".py",
   "mimetype": "text/x-python",
   "name": "python",
   "nbconvert_exporter": "python",
   "pygments_lexer": "ipython3",
   "version": "3.10.13"
  }
 },
 "nbformat": 4,
 "nbformat_minor": 5
}
